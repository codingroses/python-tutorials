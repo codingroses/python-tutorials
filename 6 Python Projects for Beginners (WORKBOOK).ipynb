{
 "cells": [
  {
   "cell_type": "markdown",
   "metadata": {},
   "source": [
    "# 1. Roll the dice \n",
    "\n",
    "Create a program the rolls a dice, and prompts the user \"Roll again?\" before it allows the user to exit the program."
   ]
  },
  {
   "cell_type": "markdown",
   "metadata": {},
   "source": [
    "Start by using the library called `random`. As the name says, it imports random numbers. \n",
    "[Documentation for Import](https://docs.python.org/3/library/random.html)"
   ]
  },
  {
   "cell_type": "markdown",
   "metadata": {},
   "source": [
    "## Random library\n",
    " Let's learn exactly what the random library does. As the name says, it imports random numbers. \n",
    " \n",
    " The syntax for importing an integer number between a certain range of x, y is `random.randint(x,y)` \n",
    " \n",
    " What about float numbers? \n",
    " - The syntax is `random.random()` for a range between 0 and 1.\n",
    " - the syntax is `random.uniform(x, y)`\n",
    " "
   ]
  },
  {
   "cell_type": "code",
   "execution_count": null,
   "metadata": {},
   "outputs": [],
   "source": [
    "# Try out the random library\n",
    "\n",
    "import random\n",
    "\n",
    "print(\"Float between 0 and 1 \",random.random())"
   ]
  },
  {
   "cell_type": "code",
   "execution_count": null,
   "metadata": {},
   "outputs": [],
   "source": [
    "print(\"Float between any two numbers 1 and 6: \", random.uniform(1,6))"
   ]
  },
  {
   "cell_type": "code",
   "execution_count": null,
   "metadata": {},
   "outputs": [],
   "source": [
    "print(\"Random integer: \", random.randint(1,6))"
   ]
  },
  {
   "cell_type": "code",
   "execution_count": null,
   "metadata": {},
   "outputs": [],
   "source": [
    "#SOLUTION\n",
    "\n",
    "\n",
    "#Don't forget to ask the user if they want to roll again\n"
   ]
  },
  {
   "cell_type": "markdown",
   "metadata": {},
   "source": [
    "## Extra: Add a second dice to the roll\n",
    "How to add a second dice to the roll? "
   ]
  },
  {
   "cell_type": "code",
   "execution_count": null,
   "metadata": {},
   "outputs": [],
   "source": [
    "#SOLUTION with a 2nd dice\n"
   ]
  },
  {
   "cell_type": "markdown",
   "metadata": {},
   "source": [
    "## Notes - the random library\n",
    "\n",
    "The random library is not so random. It uses a certain `seed`. \n",
    "Let's test it out by setting a certain seed number and running the random.\n",
    "\n",
    "[See more about this method on w3schools](https://www.w3schools.com/python/ref_random_seed.asp)\n"
   ]
  },
  {
   "cell_type": "code",
   "execution_count": null,
   "metadata": {},
   "outputs": [],
   "source": [
    "#Run a normal random cell\n",
    "random.randint(0,10)"
   ]
  },
  {
   "cell_type": "markdown",
   "metadata": {},
   "source": [
    "Rerun the cell below multiple times. What do you see? "
   ]
  },
  {
   "cell_type": "code",
   "execution_count": null,
   "metadata": {
    "scrolled": true
   },
   "outputs": [],
   "source": [
    "# Set a seed number, then run the randint line\n",
    "random.seed(300)\n",
    "random.randint(0,10)"
   ]
  },
  {
   "cell_type": "markdown",
   "metadata": {},
   "source": [
    "# 2. Random Password Generator\n",
    "\n",
    "Create a program that takes a word from the user and builds a random password around it. \n",
    "\n",
    "For this we'll use the `random` library again, the `string` library and our first function. As you recall, a `string` is the best way to deal with words. Get a refresh on [strings here](https://docs.python.org/3/library/string.html).\n",
    "\n",
    "A `function` is a block of code that runs when it is called. It looks something like this: \n",
    "\n",
    "\n",
    "    def hello_function():\n",
    "        print(\"Hello\")\n",
    "        "
   ]
  },
  {
   "cell_type": "code",
   "execution_count": null,
   "metadata": {
    "scrolled": true
   },
   "outputs": [],
   "source": [
    "word = \"terraform\"\n",
    "len(word)"
   ]
  },
  {
   "cell_type": "code",
   "execution_count": null,
   "metadata": {
    "scrolled": true
   },
   "outputs": [],
   "source": [
    "import string\n",
    "string.ascii_letters"
   ]
  },
  {
   "cell_type": "code",
   "execution_count": null,
   "metadata": {},
   "outputs": [],
   "source": [
    "string.digits"
   ]
  },
  {
   "cell_type": "code",
   "execution_count": null,
   "metadata": {},
   "outputs": [],
   "source": [
    "string.ascii_letters + string.digits"
   ]
  },
  {
   "cell_type": "code",
   "execution_count": null,
   "metadata": {
    "scrolled": true
   },
   "outputs": [],
   "source": [
    "#import the libraries\n",
    "import random\n",
    "import string\n",
    "\n",
    "#Define a function that takes a word from the user, and a number on how long the password to be\n",
    "def generate_password(word, number):\n",
    "    # Check if the length of the word does not exceed the number (length of the password)\n",
    "  \n",
    "    \n",
    "    # Create a variable that will store the difference in length between the word and the number provided\n",
    "   \n",
    "    \n",
    "    # Create the mix of letters and digits to be added. Also uppercase, lowercase.\n",
    "        \n",
    "    # Combine the letter and digits (At random!)  using the length needed.\n",
    "    \n",
    "    # Generate the password\n",
    " \n",
    "    # Return the generated password\n",
    "  \n",
    "    \n",
    "# Call the function\n"
   ]
  },
  {
   "cell_type": "markdown",
   "metadata": {},
   "source": [
    "## So what are Strings? \n",
    "\n",
    "Let's import the library and test it out"
   ]
  },
  {
   "cell_type": "code",
   "execution_count": null,
   "metadata": {
    "scrolled": true
   },
   "outputs": [],
   "source": [
    "import string \n",
    "# What do you think the next line will print? \n",
    "string.ascii_letters"
   ]
  },
  {
   "cell_type": "code",
   "execution_count": null,
   "metadata": {},
   "outputs": [],
   "source": [
    "# digits\n",
    "string.digits"
   ]
  },
  {
   "cell_type": "code",
   "execution_count": null,
   "metadata": {},
   "outputs": [],
   "source": [
    "#ascii_lowercase\n",
    "string.ascii_lowercase"
   ]
  },
  {
   "cell_type": "code",
   "execution_count": null,
   "metadata": {},
   "outputs": [],
   "source": [
    "#ascii_uppercase\n",
    "string.ascii_uppercase"
   ]
  },
  {
   "cell_type": "markdown",
   "metadata": {},
   "source": [
    "Can you guess what `punctuation` will do? Sadly, a password cannot contain most of those characters so we have omitted them from a password."
   ]
  },
  {
   "cell_type": "code",
   "execution_count": null,
   "metadata": {},
   "outputs": [],
   "source": [
    "string.punctuation"
   ]
  },
  {
   "cell_type": "markdown",
   "metadata": {},
   "source": [
    "`Whitespace` contains characters such as space, tab, new line, return. Those are usually not accepted in a password and that is the reason we did not include it"
   ]
  },
  {
   "cell_type": "code",
   "execution_count": null,
   "metadata": {},
   "outputs": [],
   "source": [
    "string.whitespace"
   ]
  },
  {
   "cell_type": "markdown",
   "metadata": {},
   "source": [
    "# 3. Random Quote Web Scrapper\n",
    "\n",
    "Retrieve a quote and it's author from this website: https://quotes.toscrape.com/random "
   ]
  },
  {
   "cell_type": "markdown",
   "metadata": {},
   "source": [
    "### Import BeautifulSoup"
   ]
  },
  {
   "cell_type": "code",
   "execution_count": null,
   "metadata": {},
   "outputs": [],
   "source": [
    "from bs4 import BeautifulSoup\n",
    "import requests\n",
    "import urllib.request\n",
    "\n",
    "# Set the url to reach out to\n",
    "url = \"https://quotes.toscrape.com/random\"\n",
    "\n",
    "# perform the request\n",
    "response = requests.get(url)\n",
    "\n",
    "# let's see how the response looks lile\n",
    "soup = BeautifulSoup(response.text)\n",
    "print(soup)"
   ]
  },
  {
   "cell_type": "markdown",
   "metadata": {},
   "source": [
    "The quote itself is part of the `span` class, while the author is part of the `small` class."
   ]
  },
  {
   "cell_type": "markdown",
   "metadata": {},
   "source": [
    "Next: let's clean up the result."
   ]
  },
  {
   "cell_type": "code",
   "execution_count": null,
   "metadata": {
    "scrolled": true
   },
   "outputs": [],
   "source": [
    "[quote.text for quote in soup.find_all('span', class_= 'text')]"
   ]
  },
  {
   "cell_type": "code",
   "execution_count": null,
   "metadata": {},
   "outputs": [],
   "source": [
    "[author.text for author in soup.find_all('small', class_='author')]"
   ]
  },
  {
   "cell_type": "code",
   "execution_count": null,
   "metadata": {},
   "outputs": [],
   "source": [
    "# Add solution here \n",
    "\n",
    "#print(quote)\n",
    "#print(author)\n",
    "#print(quote, \"by\", author)"
   ]
  },
  {
   "cell_type": "code",
   "execution_count": null,
   "metadata": {},
   "outputs": [],
   "source": [
    "#ALTERNATE SOLUTION\n"
   ]
  },
  {
   "cell_type": "markdown",
   "metadata": {},
   "source": [
    "What is `strip` and why do we use it?\n",
    "\n",
    "More info [here](https://www.w3schools.com/python/ref_string_strip.asp)."
   ]
  },
  {
   "attachments": {
    "image.png": {
     "image/png": "[encoded data removed]"
    }
   },
   "cell_type": "markdown",
   "metadata": {},
   "source": [
    "# 4 . Temperature Converter \n",
    "\n",
    "Create a temperature converter. Ask the use whether they will input Celsius of Farenheit. \n",
    "\n",
    "\n",
    "![image.png](attachment:image.png) \n",
    "\n",
    "\n",
    "Image from [here](https://wethestudy.com/engineering/temperature-easy-celsius-fahrenheit-conversion/) and it contains further explanation on the formula conversion.\n",
    "\n",
    "\n",
    "info on the conversion [here](https://en.wikipedia.org/wiki/Fahrenheit#Conversion_(specific_temperature_point)). "
   ]
  },
  {
   "cell_type": "code",
   "execution_count": null,
   "metadata": {
    "scrolled": true
   },
   "outputs": [],
   "source": [
    "# Add solution here \n",
    "\n",
    "#get the temperature \n",
    "\n",
    "\n",
    "#set the unit of the temperature\n",
    "\n",
    "# set the degree\n",
    "\n"
   ]
  },
  {
   "cell_type": "markdown",
   "metadata": {},
   "source": [
    "# 5. Find Fibonacci \n",
    "\n",
    "Check if a given number is part of the Fibonacci sequence. Read more about the Fibonacci sequence [here](https://simple.wikipedia.org/wiki/Fibonacci_number) \n",
    "\n",
    "\n",
    "The logic behind Fibonacci sequence is that the number is a sum of it's previous two numbers.\n",
    " ` 1 1 2 3 5 8 13 ... ` \n",
    " \n",
    " \n",
    "A number is Fibonacci if and only if either one of (5N^2 + 4) or (5N^2 – 4) is a perfect square. (Source [here](https://en.wikipedia.org/wiki/Fibonacci_number#Recognizing_Fibonacci_numbers))"
   ]
  },
  {
   "cell_type": "code",
   "execution_count": null,
   "metadata": {},
   "outputs": [],
   "source": [
    "# Add solution here\n",
    "import math \n",
    "\n",
    "\n",
    "# Check if the number is a perfect square\n",
    "def checkPerfectSquare(n):\n",
    "    pass\n",
    "\n",
    "def isFibonacci(n):\n",
    "    pass\n",
    "\n",
    "# Is it a Fibonacci number?"
   ]
  },
  {
   "cell_type": "markdown",
   "metadata": {},
   "source": [
    "# 6. Happy Numbers \n",
    "\n",
    "Check if a provided number is a happy number. More details on what are happy numbers [here](http://computational-thinking.weebly.com/happy-numbers.html) \n",
    "\n",
    "A number is said to be happy if the sum of the squares of it's digits. Keep repeating it until it eventually lead to 1. \n",
    "For example:\n",
    "\n",
    " `100 ` :  **happy number**\n",
    " \n",
    " ` 1^2 + 0^2 + 0^2 = 1`\n",
    " \n",
    " \n",
    " If the number ends up with 4, it is said to be an unhappy number.\n",
    " \n",
    " `36`: **unhappy number**\n",
    " \n",
    " `3^2 + 6^2 = 9 + 36 = 45`\n",
    " \n",
    " Next, we take the `45` and sum the squares of its digits.\n",
    " \n",
    " `4^2 + 5 ^ 2 = 16 + 25 = 41` \n",
    " \n",
    " Next, take 41 and sum the squares of its digits.\n",
    " \n",
    " `4 ^2 + 1^2 = 16 +1 = 17` \n",
    " \n",
    " Next, take 17 and sum the squares of its digits.\n",
    " `1^2 + 7^2 = 1 + 49 = 50` \n",
    " \n",
    "Next, take 50 and sum the squares of its digits.\n",
    "\n",
    "` 5^2 + 0^2 = 25` \n",
    "\n",
    "Next, take 25 and sum the squares of its digits.\n",
    "`2^2 + 5 ^2 = 4 + 25 = 29`\n",
    "\n",
    "Next, take 29 and sum the squares of its digits.\n",
    "\n",
    "`2^2 + 9^2 = 4 + 81 = 85`\n",
    "\n",
    "Next, take 85 and sum the squares of its digits.\n",
    "\n",
    "`8^2 + 5^2 = 64 + 25 = 89` \n",
    "\n",
    "Next, take 89 and sum the squares of its digits.\n",
    "\n",
    "`8^2 + 9^2 = 64 + 81 = 145` \n",
    "\n",
    "Next, take 145 and sum the squares of its digits.\n",
    "\n",
    "`1^2 + 4^2 + 5^2= 1+ 16 + 25 = 42` \n",
    "\n",
    "Next, take 42 and sum the squares of its digits.\n",
    "`4^2 + 2^2= 16+ 4 = 20` \n",
    "\n",
    "Next, take 20 and sum the squares of its digits.\n",
    "\n",
    "`2^2 + 0^2 = 4` \n",
    "\n",
    "Sadly, the number 36 is not a happy number as it lead to  the number 4. Don't believe it? Continue the math.\n",
    "4 ^ 2 = 16 \n",
    "1^2 + 6 ^2 = 1 + 36 = 37\n",
    "3^2 + 7^2 = 9 + 49 = 58  <-- note how 5^2 + 8^2 is the same 8^2 + 5^2 ? This exact case is above. Sadly, this number will be stuck on loop that will go to 89, 145,42,20, 4 then back to 16,37,58, 59,145,42,20, etc. "
   ]
  },
  {
   "cell_type": "code",
   "execution_count": null,
   "metadata": {},
   "outputs": [],
   "source": [
    "# Add solution here \n",
    "def isHappy(n):    \n",
    "    pass\n",
    "\n",
    "# Get the input number from the user\n",
    "n = int(input())    \n",
    "res = n;    \n"
   ]
  }
 ],
 "metadata": {
  "kernelspec": {
   "display_name": "Python 3",
   "language": "python",
   "name": "python3"
  },
  "language_info": {
   "codemirror_mode": {
    "name": "ipython",
    "version": 3
   },
   "file_extension": ".py",
   "mimetype": "text/x-python",
   "name": "python",
   "nbconvert_exporter": "python",
   "pygments_lexer": "ipython3",
   "version": "3.8.5"
  }
 },
 "nbformat": 4,
 "nbformat_minor": 4
}
